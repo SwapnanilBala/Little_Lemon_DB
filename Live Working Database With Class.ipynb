{
 "cells": [
  {
   "cell_type": "code",
   "execution_count": 2,
   "id": "92e51e9d-7ac8-41d5-8c7d-6ed113c5383a",
   "metadata": {},
   "outputs": [
    {
     "name": "stdout",
     "output_type": "stream",
     "text": [
      "The the mentioned modules have sucessfully been imported\n"
     ]
    }
   ],
   "source": [
    "import mysql.connector as connection\n",
    "import pandas as pd\n",
    "from mysql.connector import Error\n",
    "print(\"The the mentioned modules have sucessfully been imported\")"
   ]
  },
  {
   "cell_type": "code",
   "execution_count": null,
   "id": "c202f0db-0825-4968-9bcb-fd6ce6b1de00",
   "metadata": {},
   "outputs": [],
   "source": [
    "try:\n",
    "    conn = connection.connect(user = \"root\",\n",
    "                             password = \"Meremember1@#\",\n",
    "                             host = \"localhost\" \n",
    "                             database = \"juice_shop\")\n",
    "    if conn.is_connected():\n",
    "        cursor = connection.cursor()\n",
    "        print(\"Live Connection Estabisished\")\n",
    "        print(\"The Cursor is also in Use\")\n",
    "    else:\n",
    "        print(\"The Connection could not be estabisished due to tecnical issues\")\n",
    "except Error as e:\n",
    "    print(f\"The issue we have ran onto is:  {e} \")"
   ]
  },
  {
   "cell_type": "code",
   "execution_count": null,
   "id": "55a52089-22ba-417f-b94b-3f0fe2d225e3",
   "metadata": {},
   "outputs": [],
   "source": []
  },
  {
   "cell_type": "code",
   "execution_count": null,
   "id": "6cd5d77b-8442-41a3-92cc-e0296c377871",
   "metadata": {},
   "outputs": [],
   "source": []
  },
  {
   "cell_type": "code",
   "execution_count": null,
   "id": "a9b9a24d-36c6-44db-aaf8-a9b56692d343",
   "metadata": {},
   "outputs": [],
   "source": []
  },
  {
   "cell_type": "code",
   "execution_count": null,
   "id": "721127e3-e4cf-4da9-8924-a9286edb08d3",
   "metadata": {},
   "outputs": [],
   "source": []
  },
  {
   "cell_type": "code",
   "execution_count": null,
   "id": "8bd555fa-5d3e-4963-a7eb-291caf6ac147",
   "metadata": {},
   "outputs": [],
   "source": []
  }
 ],
 "metadata": {
  "kernelspec": {
   "display_name": "Python 3 (ipykernel)",
   "language": "python",
   "name": "python3"
  },
  "language_info": {
   "codemirror_mode": {
    "name": "ipython",
    "version": 3
   },
   "file_extension": ".py",
   "mimetype": "text/x-python",
   "name": "python",
   "nbconvert_exporter": "python",
   "pygments_lexer": "ipython3",
   "version": "3.13.1"
  }
 },
 "nbformat": 4,
 "nbformat_minor": 5
}
