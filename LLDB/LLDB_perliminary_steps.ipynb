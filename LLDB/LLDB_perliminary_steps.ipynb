{
 "cells": [
  {
   "cell_type": "code",
   "execution_count": 7,
   "id": "f68f4dfe-b3fa-4d30-8c75-449bbc4c7bd6",
   "metadata": {},
   "outputs": [
    {
     "name": "stdout",
     "output_type": "stream",
     "text": [
      "Imported Successfully \n"
     ]
    }
   ],
   "source": [
    "try:\n",
    "    from mysql.connector import pooling\n",
    "    import mysql.connector as connection\n",
    "    from mysql.connector import Error\n",
    "    from mysql.connector.pooling import MySQLConnectionPool\n",
    "    print(\"Imported Successfully \")\n",
    "except:\n",
    "    print(\"Module import error \")"
   ]
  },
  {
   "cell_type": "code",
   "execution_count": 33,
   "id": "22426c5f-975a-4641-8c42-478383fdf108",
   "metadata": {},
   "outputs": [
    {
     "name": "stdout",
     "output_type": "stream",
     "text": [
      "Live Connection Estasbilished\n",
      "------ \n",
      " ** Table Names ** \n",
      " \n",
      "Table number 1, the name is bookings\n",
      "Table number 2, the name is customers\n",
      "Table number 3, the name is menus\n",
      "Table number 4, the name is orders\n",
      "Table number 5, the name is payments\n",
      "Table number 6, the name is staffs\n",
      "Table number 7, the name is stock\n",
      "\n",
      "Connection Closed\n"
     ]
    }
   ],
   "source": [
    "db_config = {'user':'Swapnanil',\n",
    "            'password':'Bala',\n",
    "            'host':'localhost',\n",
    "            'database':'LLDB'\n",
    "            }\n",
    "\n",
    "pool_c = MySQLConnectionPool(pool_name = 'Seris', \n",
    "                             pool_size = 2,\n",
    "                             **db_config)\n",
    "\n",
    "\n",
    "try:\n",
    "    connection = pool_c.get_connection()\n",
    "    cursor = connection.cursor(buffered = True)\n",
    "    print(\"Live Connection Estasbilished\")\n",
    "    cursor.execute(\"SHOW TABLES;\")\n",
    "    print(\"------ \")\n",
    "    tables = list(cursor.fetchall())\n",
    "    print(' ** Table Names ** ')\n",
    "    print(\" \")\n",
    "    number = 6\n",
    "    digit  = (len(tables))\n",
    "    for items in tables:\n",
    "              print(f'Table number {digit-number}, the name is {items[0]}')\n",
    "              number -= 1\n",
    "               \n",
    "except Error as e :\n",
    "    print(f\"the problem occured is :  {e}\")\n",
    "\n",
    "finally:\n",
    "    if connection.is_connected():\n",
    "        cursor.close()\n",
    "        connection.close()\n",
    "        print(\"\")\n",
    "        print(\"Connection Closed\")\n",
    "    else:\n",
    "        print('No live Connection Running')\n",
    "    \n",
    "    "
   ]
  },
  {
   "cell_type": "code",
   "execution_count": 24,
   "id": "65213ca7-46f3-453b-af6c-d7e5768622b3",
   "metadata": {},
   "outputs": [
    {
     "name": "stdout",
     "output_type": "stream",
     "text": [
      "7\n",
      "bookings\n",
      "customers\n",
      "menus\n",
      "orders\n",
      "payments\n",
      "staffs\n",
      "stock\n"
     ]
    }
   ],
   "source": [
    "# cursor.execute(\"SHOW TABLES;\")\n",
    "# tables = cursor.fetchall()\n",
    "# print(len(tables))\n",
    "# for items in tables:\n",
    "#     print(items[0])\n",
    "\n"
   ]
  },
  {
   "cell_type": "code",
   "execution_count": 27,
   "id": "f875a6fe-e738-4b3f-9bb6-eb7cc18fe9df",
   "metadata": {},
   "outputs": [
    {
     "name": "stdout",
     "output_type": "stream",
     "text": [
      "0\n",
      "1\n",
      "2\n",
      "3\n",
      "4\n",
      "5\n",
      "6\n"
     ]
    }
   ],
   "source": [
    "# for items in range(len(tables)):\n",
    "#     print(items)"
   ]
  },
  {
   "cell_type": "code",
   "execution_count": null,
   "id": "52636f2b-50af-4690-83d6-219c2530c19e",
   "metadata": {},
   "outputs": [],
   "source": []
  },
  {
   "cell_type": "code",
   "execution_count": null,
   "id": "023d9bf7-2de1-474a-b1cb-1fa3e20205c8",
   "metadata": {},
   "outputs": [],
   "source": []
  },
  {
   "cell_type": "code",
   "execution_count": null,
   "id": "7c2a0add-6320-4427-9dda-cf83f3cd30b2",
   "metadata": {},
   "outputs": [],
   "source": []
  }
 ],
 "metadata": {
  "kernelspec": {
   "display_name": "Python 3 (ipykernel)",
   "language": "python",
   "name": "python3"
  },
  "language_info": {
   "codemirror_mode": {
    "name": "ipython",
    "version": 3
   },
   "file_extension": ".py",
   "mimetype": "text/x-python",
   "name": "python",
   "nbconvert_exporter": "python",
   "pygments_lexer": "ipython3",
   "version": "3.13.1"
  }
 },
 "nbformat": 4,
 "nbformat_minor": 5
}
