{
 "cells": [
  {
   "cell_type": "code",
   "execution_count": 1,
   "id": "4e133fba-a815-4321-8d9d-25160ba5e3ea",
   "metadata": {},
   "outputs": [
    {
     "name": "stdout",
     "output_type": "stream",
     "text": [
      "Imported Successfully\n"
     ]
    }
   ],
   "source": [
    "try:\n",
    "    import mysql.connector \n",
    "    from mysql.connector import Error\n",
    "    print(\"Imported Successfully\")\n",
    "except:\n",
    "    print(\"Ran into  Trouble\")"
   ]
  },
  {
   "cell_type": "code",
   "execution_count": 10,
   "id": "15fb62c5-4037-446c-8ce6-1f85b0de73cc",
   "metadata": {},
   "outputs": [
    {
     "name": "stdout",
     "output_type": "stream",
     "text": [
      "Live Connection Estabilished\n"
     ]
    }
   ],
   "source": [
    "try:\n",
    "    connection = mysql.connector.connect(user = \"root\",\n",
    "                                         password = \"Meremember1@#\",\n",
    "                                         database = \"mydb\")\n",
    "    cursor = connection.cursor()\n",
    "    print(\"Live Connection Estabilished\")\n",
    "except Error as e:\n",
    "    print(f'Ran into error:  {e} ')\n",
    "    "
   ]
  },
  {
   "cell_type": "code",
   "execution_count": 3,
   "id": "a0889928-731d-4a5a-90df-f55694a80340",
   "metadata": {},
   "outputs": [
    {
     "name": "stdout",
     "output_type": "stream",
     "text": [
      "1 --->  bookings\n",
      "2 --->  customers\n",
      "3 --->  menu\n",
      "4 --->  orders\n",
      "5 --->  payment\n",
      "6 --->  staff\n",
      "7 --->  staff_details\n",
      "8 --->  status\n"
     ]
    }
   ],
   "source": [
    "cursor.execute(\"\"\"SHOW TABLES;\"\"\")\n",
    "tables = cursor.fetchall()\n",
    "for index,table in enumerate(tables, start = 1):\n",
    "    print(f'{index} --->  {table[0]}')\n",
    "    cursor.nextset()\n"
   ]
  },
  {
   "cell_type": "code",
   "execution_count": 8,
   "id": "0ed5e2c5-57e2-49ce-a8b3-cf24308b630c",
   "metadata": {},
   "outputs": [],
   "source": [
    "# queries for inserting data into customers table\n",
    "\n",
    "insert_customers = (\"\"\"\n",
    "    INSERT INTO customers (First_Name, Last_Name, Email, Phone) VALUES \n",
    "    ('Hiroshi', 'Tanaka', 'hiroshi.tanaka@example.jp', '+81-90-1234-5678'),\n",
    "    ('Aisha', 'Khan', 'aisha.khan@example.pk', '+92-300-567-8901'),\n",
    "    ('Carlos', 'Gomez', 'carlos.gomez@example.es', '+34-612-345-678'),\n",
    "    ('Fatima', 'Ahmed', 'fatima.ahmed@example.sa', '+966-50-123-4567'),\n",
    "    ('Ivan', 'Petrov', 'ivan.petrov@example.ru', '+7-911-123-4567'),\n",
    "    ('Chen', 'Wei', 'chen.wei@example.cn', '+86-139-1234-5678'),\n",
    "    ('Sophia', 'Müller', 'sophia.mueller@example.de', '+49-172-345-6789'),\n",
    "    ('Liam', \"O'Connor\", 'liam.oconnor@example.ie', '+353-87-123-4567'),\n",
    "    ('Amara', 'Ndiaye', 'amara.ndiaye@example.sn', '+221-77-123-4567'),\n",
    "    ('Raj', 'Patel', 'raj.patel@example.in', '+91-98765-43210'),\n",
    "    ('Emily', 'Smith', 'emily.smith@example.au', '+61-412-345-678'),\n",
    "    ('Ahmed', 'El-Sayed', 'ahmed.elsayed@example.eg', '+20-100-123-4567'),\n",
    "    ('Olivia', 'Rossi', 'olivia.rossi@example.it', '+39-347-123-4567'),\n",
    "    ('Mei', 'Yamada', 'mei.yamada@example.jp', '+81-80-1234-5678'),\n",
    "    ('Andrés', 'Martínez', 'andres.martinez@example.mx', '+52-55-1234-5678');\n",
    "\"\"\")"
   ]
  },
  {
   "cell_type": "code",
   "execution_count": 11,
   "id": "2706a1e4-ef52-4c3c-8f19-6265308eb5a8",
   "metadata": {},
   "outputs": [
    {
     "name": "stdout",
     "output_type": "stream",
     "text": [
      "Data Insertion Completed\n"
     ]
    }
   ],
   "source": [
    "try:\n",
    "    cursor.execute(insert_customers)\n",
    "    connection.commit()\n",
    "    print(\"Data Insertion Completed\")\n",
    "    cursor.nextset()\n",
    "except Error as e:\n",
    "    print(f'the issue we have ran into is :  {e}')\n",
    "    cursor.close()"
   ]
  },
  {
   "cell_type": "code",
   "execution_count": 20,
   "id": "c9c765d0-691d-40a8-bec6-a355f8cb260c",
   "metadata": {},
   "outputs": [
    {
     "name": "stdout",
     "output_type": "stream",
     "text": [
      "Connection Sucessfully Closed\n",
      "Have a great day ahead !!! \n"
     ]
    }
   ],
   "source": [
    "try:\n",
    "    if connection.is_connected():\n",
    "        cursor.close()\n",
    "        connection.close()\n",
    "        print(\"Connection Sucessfully Closed\")\n",
    "    else:\n",
    "        print(\"Connection already closed\")\n",
    "except Error as e:\n",
    "    print(f\"The problem we ran into is : {e}\")\n",
    "finally:\n",
    "    print(\"Have a great day ahead !!! \")"
   ]
  },
  {
   "cell_type": "code",
   "execution_count": 18,
   "id": "db67ee7e-1f56-413f-b699-77ed5cd1cf32",
   "metadata": {},
   "outputs": [
    {
     "name": "stdout",
     "output_type": "stream",
     "text": [
      "   f_name        l_name      email                         ph_no      \n",
      "   Hiroshi      Tanaka           hiroshi.tanaka@example.jp          +81-90-1234-5678\n",
      "   Aisha      Khan           aisha.khan@example.pk          +92-300-567-8901\n",
      "   Carlos      Gomez           carlos.gomez@example.es          +34-612-345-678\n",
      "   Fatima      Ahmed           fatima.ahmed@example.sa          +966-50-123-4567\n",
      "   Ivan      Petrov           ivan.petrov@example.ru          +7-911-123-4567\n",
      "   Chen      Wei           chen.wei@example.cn          +86-139-1234-5678\n",
      "   Sophia      Müller           sophia.mueller@example.de          +49-172-345-6789\n",
      "   Liam      O'Connor           liam.oconnor@example.ie          +353-87-123-4567\n",
      "   Amara      Ndiaye           amara.ndiaye@example.sn          +221-77-123-4567\n",
      "   Raj      Patel           raj.patel@example.in          +91-98765-43210\n",
      "   Emily      Smith           emily.smith@example.au          +61-412-345-678\n",
      "   Ahmed      El-Sayed           ahmed.elsayed@example.eg          +20-100-123-4567\n",
      "   Olivia      Rossi           olivia.rossi@example.it          +39-347-123-4567\n",
      "   Mei      Yamada           mei.yamada@example.jp          +81-80-1234-5678\n",
      "   Andrés      Martínez           andres.martinez@example.mx          +52-55-1234-5678\n",
      "\n"
     ]
    }
   ],
   "source": [
    "# Data Checker\n",
    "\n",
    "\n",
    "try:\n",
    "    cursor.execute(\"SELECT * FROM Customers\")\n",
    "    result = cursor.fetchall()\n",
    "    print(\"   f_name   \",\"    l_name  \",\"   email           \",\"             ph_no      \")\n",
    "    for ids,f_name,l_name,email,ph_no in result:\n",
    "        print(\"  \",f_name,\"    \",l_name,\"         \",email,\"        \",ph_no)\n",
    "    print(\"\")\n",
    "    cursor.nextset()\n",
    "except Error as e:\n",
    "    print(f\"The Error we have ran onto is {e}\")\n",
    "    "
   ]
  },
  {
   "cell_type": "code",
   "execution_count": null,
   "id": "ab0dd894-573e-4b7c-b880-8b673d2ae7ff",
   "metadata": {},
   "outputs": [],
   "source": []
  }
 ],
 "metadata": {
  "kernelspec": {
   "display_name": "Python 3 (ipykernel)",
   "language": "python",
   "name": "python3"
  },
  "language_info": {
   "codemirror_mode": {
    "name": "ipython",
    "version": 3
   },
   "file_extension": ".py",
   "mimetype": "text/x-python",
   "name": "python",
   "nbconvert_exporter": "python",
   "pygments_lexer": "ipython3",
   "version": "3.13.1"
  }
 },
 "nbformat": 4,
 "nbformat_minor": 5
}
