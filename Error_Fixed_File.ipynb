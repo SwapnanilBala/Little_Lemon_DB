{
 "cells": [
  {
   "cell_type": "code",
   "execution_count": null,
   "id": "4e133fba-a815-4321-8d9d-25160ba5e3ea",
   "metadata": {},
   "outputs": [],
   "source": [
    "try:\n",
    "    import mysql.connector \n",
    "    from mysql.connector import Error\n",
    "    print(\"Imported Successfully\")\n",
    "except:\n",
    "    print(\"Ran into  Trouble\")"
   ]
  },
  {
   "cell_type": "code",
   "execution_count": null,
   "id": "15fb62c5-4037-446c-8ce6-1f85b0de73cc",
   "metadata": {},
   "outputs": [],
   "source": [
    "try:\n",
    "    connection = mysql.connector.connect(user = \"root\",\n",
    "                                         password = \"Meremember1@#\",\n",
    "                                         database = \"mydb\")\n",
    "    cursor = connection.cursor()\n",
    "    print(\"Live Connection Estabilished\")\n",
    "except Error as e:\n",
    "    print(f'Ran into error:  {e} ')\n",
    "    "
   ]
  },
  {
   "cell_type": "code",
   "execution_count": null,
   "id": "a0889928-731d-4a5a-90df-f55694a80340",
   "metadata": {},
   "outputs": [],
   "source": [
    "cursor.execute(\"\"\"SHOW TABLES;\"\"\")\n",
    "tables = cursor.fetchall()\n",
    "for index,table in enumerate(tables, start = 1):\n",
    "    print(f'{index} --->  {table[0]}')\n",
    "    cursor.nextset()\n"
   ]
  },
  {
   "cell_type": "code",
   "execution_count": null,
   "id": "c9c765d0-691d-40a8-bec6-a355f8cb260c",
   "metadata": {},
   "outputs": [],
   "source": [
    "# try:\n",
    "#     if connection.is_connected():\n",
    "#         cursor.close()\n",
    "#         connection.close()\n",
    "#         print(\"Connection Sucessfully Closed\")\n",
    "#     else:\n",
    "#         print(\"Connection already closed\")\n",
    "# except Error as e:\n",
    "#     print(f\"The problem we ran into is : {e}\")\n",
    "# finally:\n",
    "#     print(\"Have a great day ahead !!! \")"
   ]
  },
  {
   "cell_type": "markdown",
   "id": "bf013e0d-091d-4b24-b2c6-a64b566bfe04",
   "metadata": {},
   "source": [
    "#### For now the precaution measurement we have taken is like -->\n",
    "#### if the insertion command is found to be faulty then the cursor will close and we will have to restart the cursor\n",
    "#### the cursor start command is given below -->"
   ]
  },
  {
   "cell_type": "code",
   "execution_count": null,
   "id": "8b6b9083-6491-4e90-822e-21bac0959e10",
   "metadata": {},
   "outputs": [],
   "source": [
    "# try:\n",
    "#     if connection.is_connected():\n",
    "#         try:\n",
    "#             connection.cursor()\n",
    "#             print(\"Cursor is Live\")\n",
    "#         except:\n",
    "#             print(\"Cursor is Already Running\")\n",
    "#     else:\n",
    "#         print(\"Reach the 2nd top cell where you will be able to create a secure connection\")\n",
    "# except Error as e:\n",
    "#     print(f'The issue is : {e} ')"
   ]
  },
  {
   "cell_type": "markdown",
   "id": "da133a7e-d7b7-4256-9f77-0efc776f85f6",
   "metadata": {},
   "source": [
    "### From Here We Will Start Inserting The Data"
   ]
  },
  {
   "cell_type": "code",
   "execution_count": null,
   "id": "0ed5e2c5-57e2-49ce-a8b3-cf24308b630c",
   "metadata": {},
   "outputs": [],
   "source": [
    "# queries for inserting data into customers table\n",
    "\n",
    "insert_customers = (\"\"\"\n",
    "    INSERT INTO customers (First_Name, Last_Name, Email, Phone) VALUES\n",
    "    ('Hiroshi', 'Tanaka', 'hiroshi.tanaka@example.jp', '+81-90-1234-5678'),\n",
    "    ('Aisha', 'Khan', 'aisha.khan@example.pk', '+92-300-567-8901'),\n",
    "    ('Carlos', 'Gomez', 'carlos.gomez@example.es', '+34-612-345-678'),\n",
    "    ('Fatima', 'Ahmed', 'fatima.ahmed@example.sa', '+966-50-123-4567'),\n",
    "    ('Ivan', 'Petrov', 'ivan.petrov@example.ru', '+7-911-123-4567'),\n",
    "    ('Chen', 'Wei', 'chen.wei@example.cn', '+86-139-1234-5678'),\n",
    "    ('Sophia', 'Müller', 'sophia.mueller@example.de', '+49-172-345-6789'),\n",
    "    ('Liam', \"O'Connor\", 'liam.oconnor@example.ie', '+353-87-123-4567'),\n",
    "    ('Amara', 'Ndiaye', 'amara.ndiaye@example.sn', '+221-77-123-4567'),\n",
    "    ('Raj', 'Patel', 'raj.patel@example.in', '+91-98765-43210'),\n",
    "    ('Emily', 'Smith', 'emily.smith@example.au', '+61-412-345-678'),\n",
    "    ('Ahmed', 'El-Sayed', 'ahmed.elsayed@example.eg', '+20-100-123-4567'),\n",
    "    ('Olivia', 'Rossi', 'olivia.rossi@example.it', '+39-347-123-4567'),\n",
    "    ('Mei', 'Yamada', 'mei.yamada@example.jp', '+81-80-1234-5678'),\n",
    "    ('Andrés', 'Martínez', 'andres.martinez@example.mx', '+52-55-1234-5678');\n",
    "\n",
    "\"\"\")"
   ]
  },
  {
   "cell_type": "code",
   "execution_count": null,
   "id": "2706a1e4-ef52-4c3c-8f19-6265308eb5a8",
   "metadata": {},
   "outputs": [],
   "source": [
    "try:\n",
    "    cursor.execute(insert_customers)\n",
    "    connection.commit()\n",
    "    print(\"Data Insertion Completed\")\n",
    "    cursor.nextset()\n",
    "except Error as e:\n",
    "    print(f'the issue we have ran into is :  {e}')\n",
    "    cursor.close()"
   ]
  },
  {
   "cell_type": "code",
   "execution_count": null,
   "id": "ab0dd894-573e-4b7c-b880-8b673d2ae7ff",
   "metadata": {},
   "outputs": [],
   "source": [
    "# queries for inserting the payment details\n",
    "\n",
    "insert_payment = (\"\"\" INSERT INTO payment (Order_ID, Total_Amount, Payment_Type, Feedback) VALUES\n",
    "    (5, 17.98, 'Debit', 'Satisfactory'),\n",
    "    (8, 12.99, 'Credit', 'Good Experience'),\n",
    "    (15, 29.97, 'Credit', 'Great Experience'),\n",
    "    (4, 33.90, 'Debit', 'Delicious Food'),\n",
    "    (13, 18.00, 'Credit', 'Excellent Value'),\n",
    "    (11, 13.00, 'Debit', 'Nice Ambiance'),\n",
    "    (2, 24.00, 'Cash', 'Quick Service'),\n",
    "    (3, 36.00, 'Debit', 'Great Service'),\n",
    "    (9, 15.00, 'Cash', 'Would Come Again'),\n",
    "    (6, 35.25, 'Credit', 'Good Value'),\n",
    "    (7, 9.99, 'Debit', 'Quick Delivery'),\n",
    "    (12, 22.50, 'Credit', 'Highly Recommended'),\n",
    "    (14, 15.00, 'Cash', 'Decent Service'),\n",
    "    (10, 13.50, 'Debit', 'Decent');\n",
    "\n",
    "\n",
    "\n",
    "\"\"\")"
   ]
  },
  {
   "cell_type": "code",
   "execution_count": null,
   "id": "05c93995-ea8e-4f97-aeaa-61045a69315b",
   "metadata": {},
   "outputs": [],
   "source": [
    "try:\n",
    "    cursor.execute(insert_payment)\n",
    "    connection.commit()\n",
    "    print(\"Data Insertion Complete\")\n",
    "    cursor.nextset()\n",
    "except Error as e:\n",
    "    print(f\"The Error we have ran onto is: {e}\")\n",
    "    cursor.close()"
   ]
  },
  {
   "cell_type": "code",
   "execution_count": null,
   "id": "a079a09b-ba0f-42e4-ba4c-3abb21c8330b",
   "metadata": {},
   "outputs": [],
   "source": [
    "# queries for inserting the order status details\n",
    "\n",
    "insert_status = (\"\"\"\n",
    "\n",
    "INSERT INTO status (Table_No, Status, Feedback) VALUES\n",
    "    (1, 'In Progress', 'The order is taking longer than expected.'),\n",
    "    (2, 'Pending', 'Waiting for the kitchen to start preparing the food.'),\n",
    "    (3, 'Completed', 'Service was quick and efficient!'),\n",
    "    (4, 'In Progress', 'Food is taking a bit longer, but the staff is friendly.'),\n",
    "    (5, 'Pending', 'Still waiting for confirmation from the kitchen.'),\n",
    "    (6, 'Completed', 'Great speed, food arrived faster than expected!'),\n",
    "    (7, 'In Progress', 'The order seems to be delayed; waiting for an update.'),\n",
    "    (8, 'Pending', 'Food preparation is taking longer than usual.'),\n",
    "    (9, 'Completed', 'Excellent service, the food came right on time!'),\n",
    "    (10, 'In Progress', 'It’s been a while; hope the food arrives soon.'),\n",
    "    (11, 'Completed', 'Very quick and efficient service, will return!'),\n",
    "    (12, 'Pending', 'Still awaiting confirmation on the availability of items.'),\n",
    "    (13, 'Completed', 'Great timing, everything was served hot and fresh!'),\n",
    "    (14, 'In Progress', 'The order is taking too long, hope it’s worth the wait.'),\n",
    "    (15, 'Pending', 'Hoping for a quick delivery; not sure about the wait time.');\n",
    "\n",
    "\n",
    "\"\"\")"
   ]
  },
  {
   "cell_type": "code",
   "execution_count": null,
   "id": "b8d358ff-7a71-4ef8-9646-bee7c2bee523",
   "metadata": {},
   "outputs": [],
   "source": [
    "try:\n",
    "    cursor.execute(insert_status)\n",
    "    connection.commit()\n",
    "    print(\"Data Insertion Complete\")\n",
    "    cursor.nextset()\n",
    "except Error as e:\n",
    "    print(f\"The Error we have ran onto is: {e}\")\n",
    "    cursor.close()"
   ]
  },
  {
   "cell_type": "code",
   "execution_count": null,
   "id": "1b4f014f-084b-48ec-ad3c-b4a55cc30494",
   "metadata": {},
   "outputs": [],
   "source": [
    "# queries for inserting the staff details\n",
    "\n",
    "insert_staff_details = (\"\"\"\n",
    "INSERT INTO staff_details (Staff_Details_ID, Name, Email, Phone_No, Role, Address) VALUES\n",
    "(1, 'John Doe', 'john.doe@example.com', '555-1234', 'Manager', '123 Main St, Springfield, IL'),\n",
    "(2, 'Jane Smith', 'jane.smith@example.com', '555-5678', 'Chef', '456 Elm St, Springfield, IL'),\n",
    "(3, 'Paul Turner', 'paul.turner@example.com', '555-8765', 'Waiter', '789 Oak St, Springfield, IL'),\n",
    "(4, 'Emily Davis', 'emily.davis@example.com', '555-4321', 'Bartender', '321 Pine St, Springfield, IL'),\n",
    "(5, 'Michael Brown', 'michael.brown@example.com', '555-2345', 'Dishwasher', '654 Maple St, Springfield, IL'),\n",
    "(6, 'Sarah Williams', 'sarah.williams@example.com', '555-6789', 'Server', '987 Cedar St, Springfield, IL'),\n",
    "(7, 'David Miller', 'david.miller@example.com', '555-3456', 'Cook', '135 Birch St, Springfield, IL'),\n",
    "(8, 'Olivia Wilson', 'olivia.wilson@example.com', '555-6543', 'Manager', '246 Willow St, Springfield, IL'),\n",
    "(9, 'James Moore', 'james.moore@example.com', '555-7890', 'Waiter', '369 Elm St, Springfield, IL'),\n",
    "(10, 'Linda Taylor', 'linda.taylor@example.com', '555-1122', 'Host', '753 Pine St, Springfield, IL');\n",
    "\"\"\")"
   ]
  },
  {
   "cell_type": "code",
   "execution_count": null,
   "id": "a2fab729-f10d-4aa8-b4f3-d4c5e08b0fd2",
   "metadata": {},
   "outputs": [],
   "source": [
    "try:\n",
    "    cursor.execute(insert_staff_details)\n",
    "    connection.commit()\n",
    "    print(\"Data Insertion Complete\")\n",
    "    cursor.nextset()\n",
    "except Error as e:\n",
    "    print(f\"The Error we have ran onto is: {e}\")\n",
    "    cursor.close()"
   ]
  },
  {
   "cell_type": "code",
   "execution_count": null,
   "id": "d497c35f-efb3-4e07-98c9-1ebd405d806d",
   "metadata": {},
   "outputs": [],
   "source": [
    "# queries for inserting the menu table details\n",
    "\n",
    "\n",
    "insert_menu = (\"\"\" INSERT INTO menu (Cuisine, Food_Name, Food_Type, Price, Discount) VALUES \n",
    "    ('Italian', 'Margherita Pizza', 'Main Course', 12.99, 0.10),\n",
    "    ('Japanese', 'Sushi Rolls', 'Appetizer', 18.50, 0.05),\n",
    "    ('Mexican', 'Tacos', 'Main Course', 8.99, 0.15),\n",
    "    ('Indian', 'Butter Chicken', 'Main Course', 14.50, 0.20),\n",
    "    ('Chinese', 'Sweet and Sour Pork', 'Main Course', 11.75, 0.00),\n",
    "    ('French', 'Croissant', 'Snack', 3.50, 0.10),\n",
    "    ('American', 'Cheeseburger', 'Main Course', 9.99, 0.25),\n",
    "    ('Thai', 'Pad Thai', 'Main Course', 13.00, 0.00),\n",
    "    ('Lebanese', 'Hummus with Pita', 'Appetizer', 7.50, 0.05),\n",
    "    ('Italian', 'Spaghetti Carbonara', 'Main Course', 15.00, 0.12),\n",
    "    ('Greek', 'Moussaka', 'Main Course', 16.99, 0.08),\n",
    "    ('Spanish', 'Paella', 'Main Course', 20.00, 0.15),\n",
    "    ('Japanese', 'Ramen', 'Main Course', 10.99, 0.10),\n",
    "    ('Indian', 'Samosa', 'Appetizer', 5.50, 0.00),\n",
    "    ('Mexican', 'Quesadilla', 'Main Course', 12.50, 0.20);\n",
    "\n",
    "\n",
    "\"\"\")"
   ]
  },
  {
   "cell_type": "code",
   "execution_count": null,
   "id": "219f5476-4f4a-4a15-8953-e694eae2982b",
   "metadata": {},
   "outputs": [],
   "source": [
    "try:\n",
    "    cursor.execute(insert_menu)\n",
    "    connection.commit()\n",
    "    print(\"Data Insertion Complete\")\n",
    "    cursor.nextset()\n",
    "except Error as e:\n",
    "    print(f\"The Error we have ran onto is: {e}\")\n",
    "    cursor.close()"
   ]
  },
  {
   "cell_type": "code",
   "execution_count": null,
   "id": "5adf0147-0480-49ef-bbbc-6b4bf1957aef",
   "metadata": {},
   "outputs": [],
   "source": [
    "insert_staff = (\"\"\"\n",
    "INSERT INTO staff (Staff_ID, Table_No, Availability) VALUES \n",
    "     (1, 5, \"Yes\"),\n",
    "     (2, 8, \"No\"),\n",
    "     (3, 1, \"Yes\"),\n",
    "     (4, 3, \"Yes\"),\n",
    "     (5, 7, \"Yes\"),\n",
    "     (6, 2, \"No\"),\n",
    "     (7, 12, \"Yes\"),\n",
    "     (8, 4, \"Yes\"),\n",
    "     (9, 9, \"Yes\"),\n",
    "    (10, 15, \"No\");\n",
    "\n",
    "\"\"\")"
   ]
  },
  {
   "cell_type": "code",
   "execution_count": null,
   "id": "350ebbe6-075e-4b6e-b870-e01942b85492",
   "metadata": {},
   "outputs": [],
   "source": [
    "try:\n",
    "    cursor.execute(insert_staff)\n",
    "    connection.commit()\n",
    "    print(\"Data Insertion Complete\")\n",
    "    cursor.nextset()\n",
    "except Error as e:\n",
    "    print(f\"The Error we have ran onto is: {e}\")\n",
    "    cursor.close()"
   ]
  },
  {
   "cell_type": "code",
   "execution_count": null,
   "id": "565caca4-c6d6-403b-b758-827e7461e364",
   "metadata": {},
   "outputs": [],
   "source": [
    "# queries for inserting data into bookings table\n",
    "\n",
    "insert_bookings = (\"\"\"\n",
    "INSERT INTO bookings (Customer_ID, Booking_Time, Total_Guests) VALUES \n",
    "(1, '2023-03-01 16:00:00', 5),\n",
    "(8, '2023-07-27 12:45:00', 1),\n",
    "(15, '2023-08-13 14:10:00', 4),\n",
    "(4, '2023-09-09 21:00:00', 8),\n",
    "(13, '2023-10-21 15:35:00', 5),\n",
    "(11, '2023-11-03 18:20:00', 10),\n",
    "(2, '2023-12-11 19:45:00', 2),\n",
    "(3, '2024-04-22 11:15:00', 6),\n",
    "(9, '2024-03-19 20:15:00', 7),\n",
    "(6, '2024-01-14 10:30:00', 3),\n",
    "(7, '2024-05-30 13:00:00', 9),\n",
    "(12, '2024-07-11 08:50:00', 6),\n",
    "(14, '2024-02-28 22:10:00', 3),\n",
    "(10, '2024-06-05 09:30:00', 2);\n",
    "\n",
    "\"\"\")"
   ]
  },
  {
   "cell_type": "code",
   "execution_count": null,
   "id": "9cf212d9-5d45-48b5-b1d0-c6ea3e36bcf3",
   "metadata": {},
   "outputs": [],
   "source": [
    "try:\n",
    "    cursor.execute(insert_bookings)\n",
    "    connection.commit()\n",
    "    print(\"Data Insertion Complete\")\n",
    "    cursor.nextset()\n",
    "except Error as e:\n",
    "    print(f\"The Error we have ran onto is: {e}\")\n",
    "    cursor.close()"
   ]
  },
  {
   "cell_type": "code",
   "execution_count": null,
   "id": "459cba38-5075-4f08-aafc-1a0b85e6277e",
   "metadata": {},
   "outputs": [],
   "source": [
    "insert_orders = (\"\"\" INSERT INTO orders (Booking_ID, Payment_ID, Menu_ID, Staff_ID, Table_No, Quantity) VALUES\n",
    "    (5, 5, 3, 5, 7, 2),\n",
    "    (8, 8, 1, 10, 4, 1),\n",
    "    (15, 15, 7, 6, 2, 3),\n",
    "    (4, 4, 2, 7, 3, 2),\n",
    "    (13, 13, 10, 3, 6, 1),\n",
    "    (11, 11, 6, 9, 1, 2),\n",
    "    (2, 2, 12, 4, 12, 3),\n",
    "    (3, 3, 13, 1, 5, 2),\n",
    "    (9, 9, 14, 8, 4, 2),\n",
    "    (6, 6, 5, 2, 8, 3),\n",
    "    (7, 7, 8, 11, 15, 1),\n",
    "    (12, 12, 9, 12, 7, 2),\n",
    "    (14, 14, 11, 3, 10, 1),\n",
    "    (10, 10, 4, 7, 9, 1);\n",
    "\n",
    "\n",
    "\n",
    "\"\"\")\n"
   ]
  },
  {
   "cell_type": "code",
   "execution_count": null,
   "id": "9eda8dfb-2279-4ed8-bced-a6c1e339c581",
   "metadata": {},
   "outputs": [],
   "source": [
    "try:\n",
    "    cursor.execute(insert_orders)\n",
    "    connection.commit()\n",
    "    print(\"Data Insertion Complete\")\n",
    "    cursor.nextset()\n",
    "except Error as e:\n",
    "    print(f\"The Error we have ran onto is: {e}\")\n",
    "    cursor.close()"
   ]
  },
  {
   "cell_type": "code",
   "execution_count": null,
   "id": "2b465713-9d8d-4b09-b4b0-40cb9a297dc5",
   "metadata": {},
   "outputs": [],
   "source": []
  },
  {
   "cell_type": "code",
   "execution_count": null,
   "id": "994889ae-d707-443f-872f-b50114b6e1c5",
   "metadata": {},
   "outputs": [],
   "source": []
  },
  {
   "cell_type": "code",
   "execution_count": null,
   "id": "f89124ed-bbc1-470b-8aa0-3162cda4b0b2",
   "metadata": {},
   "outputs": [],
   "source": []
  },
  {
   "cell_type": "code",
   "execution_count": null,
   "id": "8685c61c-ff9e-4579-8095-48e6dbcf28d6",
   "metadata": {},
   "outputs": [],
   "source": []
  },
  {
   "cell_type": "code",
   "execution_count": null,
   "id": "ea439955-0ddf-47d4-94d4-0b7cfd259eaf",
   "metadata": {},
   "outputs": [],
   "source": []
  }
 ],
 "metadata": {
  "kernelspec": {
   "display_name": "Python 3 (ipykernel)",
   "language": "python",
   "name": "python3"
  },
  "language_info": {
   "codemirror_mode": {
    "name": "ipython",
    "version": 3
   },
   "file_extension": ".py",
   "mimetype": "text/x-python",
   "name": "python",
   "nbconvert_exporter": "python",
   "pygments_lexer": "ipython3",
   "version": "3.13.1"
  }
 },
 "nbformat": 4,
 "nbformat_minor": 5
}
