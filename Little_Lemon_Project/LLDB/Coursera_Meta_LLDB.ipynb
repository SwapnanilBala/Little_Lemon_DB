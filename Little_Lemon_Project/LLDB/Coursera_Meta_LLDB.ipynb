{
 "cells": [
  {
   "cell_type": "markdown",
   "id": "c44476ad-8f23-4ed5-a049-91c3c2894040",
   "metadata": {},
   "source": [
    "# Good Day and welcome to my humble project\n",
    "\n",
    "## You will find most of my sql queries that I have left as a text file on my git hub, this is just the question asnswer\n",
    "\n",
    "### However alongside the necessicities I have also made a seperate tables_ table that automatically updates after payment/ booking modification\n",
    "\n",
    "### I have implemented lots of triggers as well \n",
    "\n"
   ]
  },
  {
   "cell_type": "code",
   "execution_count": 10,
   "id": "0662630a-237c-4720-a0c5-9ae6162e35be",
   "metadata": {},
   "outputs": [
    {
     "name": "stdout",
     "output_type": "stream",
     "text": [
      " Connection as well as Cursor Estabisished \n",
      " ** -+- ** \n",
      " This was the basic syntax for the connection\n",
      " but in py project I have used connection pooling for better efficacy\n"
     ]
    }
   ],
   "source": [
    "import mysql.connector as connection\n",
    "\n",
    "db_config = {'host' : '127.0.0.1',\n",
    "             'database' : 'Little_lemon_DB'\n",
    "             }\n",
    "\n",
    "try:\n",
    "    conn = connection.connect(username = \"root\",\n",
    "                              password = \"Meremember1@#\",\n",
    "                              **db_config)\n",
    "    cursor = conn.cursor(buffered = True)\n",
    "    print(\" Connection as well as Cursor Estabisished \")\n",
    "except Error as e:\n",
    "    print(f'the error that we have ran onto is : {e}')\n",
    "finally:\n",
    "    if conn.is_connected():\n",
    "        cursor.close()\n",
    "        conn.close()\n",
    "        print(\" ** -+- ** \")\n",
    "        print(\" This was the basic syntax for the connection\\n but in py project I have used connection pooling for better efficacy\")\n",
    "    else:\n",
    "        print(\"Offline Already\")\n",
    "        \n",
    "        \n"
   ]
  },
  {
   "cell_type": "code",
   "execution_count": 13,
   "id": "8b530d3d-5528-47d1-805d-d07c35696b1f",
   "metadata": {},
   "outputs": [],
   "source": [
    "from mysql.connector import pooling\n",
    "\n",
    "dbconfig = {\"username\" : \"root\",\n",
    "           \"password\" : \"Meremember1@#\",\n",
    "           \"database\": \"Little_lemon_DB\",\n",
    "           \"host\" : \"127.0.0.1\"}\n",
    "\n",
    "Connection_Pool = Connection.pooling(pool_name = \"Exp_Pool\",\n",
    "                                    pool_size = 3,\n",
    "                                    **dbconfig)\n",
    "\n",
    "try:\n",
    "    conn = Connection_Pool.get_connection()\n",
    "    print(\"Connection Successfully Estabisished and the name of the connection is conn\")\n",
    "except Error as e:\n",
    "    print(f'The problem we have ran onto is {e}')\n",
    "finally:\n",
    "    print(\"\")\n",
    "    print(\"Up next we shall do some random fetching, \\n and them we will jump straight to the project requirements\")"
   ]
  },
  {
   "cell_type": "markdown",
   "id": "f0bac044-654e-4d85-b0c9-79a00fde6bfe",
   "metadata": {},
   "source": [
    "## These are the question answers and I will leave the names of the procedures below \n",
    "\n",
    "#### update_booking(), cancel_booking(), add_booking(), Get_max_quantity()\n",
    "\n",
    "### I didnt quite understand the use of manage_bookings() so I excluded it and \n",
    "### if you havce time please stop by my SQL SCRIPT on the github repo and let me know\n",
    "\n"
   ]
  },
  {
   "cell_type": "code",
   "execution_count": null,
   "id": "ad12e7dd-222a-4a31-9656-19bc579969d2",
   "metadata": {},
   "outputs": [],
   "source": [
    "update_booking = \"\"\"\n",
    "CREATE PROCEDURE update_booking(\n",
    "    IN old_booking_ID INT,\n",
    "    IN new_booking_slot DATETIME,\n",
    "    IN new_name VARCHAR(65),\n",
    "    IN new_phone_no VARCHAR(20),\n",
    "    IN new_email VARCHAR(35),\n",
    "    IN new_table_no INT\n",
    ")\n",
    "BEGIN  \n",
    "\n",
    "    -- this changes the details in the table\n",
    "    \n",
    "    UPDATE Bookings \n",
    "    SET \n",
    "        booking_slot = new_booking_slot,\n",
    "        name = new_name,\n",
    "        phone_no = new_phone_no,\n",
    "        email = new_email,\n",
    "        table_no = new_table_no\n",
    "    WHERE booking_id = old_booking_ID;\n",
    "    \n",
    "    -- this will work as a display message only, and for the declared variable only\n",
    "    \n",
    "    SELECT \n",
    "        CONCAT(\n",
    "            \"For booking_id: \", old_booking_ID, \n",
    "            \", the new revised slot is: \", new_booking_slot, \n",
    "            \" and the new table no is: \", new_table_no\n",
    "        ) AS updated_status;\n",
    "END;\n",
    "\n",
    "\"\"\""
   ]
  },
  {
   "cell_type": "code",
   "execution_count": null,
   "id": "0e3705cb-be95-4463-b36b-dc23939f40ee",
   "metadata": {},
   "outputs": [],
   "source": [
    "cancel_booking = \"\"\"\n",
    "CREATE PROCEDURE cancel_booking(\n",
    "    IN old_booking_ID INT)\n",
    "\n",
    "BEGIN \n",
    "\n",
    "    -- this immediately deletes the booking with particular booking_id\n",
    "\n",
    "    DELETE FROM bookings\n",
    "    WHERE booking_id = old_booking_id;\n",
    "\n",
    "    SELECT CONCAT(\"The booking with the id of:\",\n",
    "    old_booking_id,\n",
    "    \" has been removed from our records\" ) AS update_status;\n",
    "\n",
    "END;\n",
    "    \n",
    "\n",
    "\"\"\""
   ]
  },
  {
   "cell_type": "code",
   "execution_count": null,
   "id": "ab01a4ae-ac30-44a1-b2fd-2ad7f2ffeb90",
   "metadata": {},
   "outputs": [],
   "source": [
    "add_booking = \"\"\"\n",
    "CREATE PROCEDURE add_booking(\n",
    "    IN new_booking_slot DATETIME,\n",
    "    IN new_name VARCHAR(65),\n",
    "    IN new_phone_no VARCHAR(20),\n",
    "    IN new_email VARCHAR(35),\n",
    "    IN new_table_no INT\n",
    ")\n",
    "BEGIN\n",
    "    -- Directly inserts the values into the bookings table\n",
    "    INSERT INTO bookings (booking_slot, name, phone_no, email, table_no)\n",
    "    VALUES (new_booking_slot, new_name, new_phone_no, new_email, new_table_no);\n",
    "\n",
    "    -- Retrieves the last inserted booking_id and shows the new status message\n",
    "    SELECT CONCAT(\n",
    "        \"New booking for: \", new_name,\n",
    "        \" has been recorded for slot: \", new_booking_slot,\n",
    "        \". Booking ID is: \", LAST_INSERT_ID()\n",
    "    ) AS updated_status;\n",
    "END;\n",
    "\"\"\"\n",
    "\n"
   ]
  },
  {
   "cell_type": "code",
   "execution_count": null,
   "id": "304d67d0-41fe-42a8-8fa6-84e6851ee461",
   "metadata": {},
   "outputs": [],
   "source": [
    "booking_delete_tables_trigger = \"\"\"\n",
    "CREATE TRIGGER booking_delete_table_update\n",
    "AFTER DELETE \n",
    "ON bookings\n",
    "FOR EACH ROW\n",
    "\n",
    "BEGIN\n",
    "UPDATE tables_\n",
    "SET\n",
    "    availability = \"Yes\",\n",
    "    booking_no = NULL,\n",
    "    booking_time = NULL   \n",
    "WHERE table_number = OLD.table_no;\n",
    "END;"
   ]
  },
  {
   "cell_type": "code",
   "execution_count": null,
   "id": "d5f2b964-19ec-4114-acbf-2917aa53d1b8",
   "metadata": {},
   "outputs": [],
   "source": [
    "booking_update_tables_trigger =\"\"\"\n",
    "CREATE TRIGGER booking_delete_table_update\n",
    "AFTER DELETE \n",
    "ON bookings\n",
    "FOR EACH ROW\n",
    "\n",
    "BEGIN\n",
    "UPDATE tables_\n",
    "SET\n",
    "    availability = \"NO\",\n",
    "    booking_no = NEW.booking_no,\n",
    "    booking_time = NEW.booking_slot   \n",
    "WHERE table_number = NEW.table_no;\n",
    "END;"
   ]
  },
  {
   "cell_type": "code",
   "execution_count": null,
   "id": "074c0a35-ef22-4c85-8067-6ac42830e0e3",
   "metadata": {},
   "outputs": [],
   "source": []
  },
  {
   "cell_type": "markdown",
   "id": "699e4ab2-f5ab-48bb-aea1-9f64572cb1f2",
   "metadata": {},
   "source": [
    "## Happy Coding and happy Database Design"
   ]
  },
  {
   "cell_type": "code",
   "execution_count": null,
   "id": "a5dd78c5-b0e8-46a1-8f68-45e74ad4a703",
   "metadata": {},
   "outputs": [],
   "source": [
    "try:\n",
    "    cursor.execute(update_booking)\n",
    "    cursor.execute(add_booking)\n",
    "    cursor.execute(cancel_booking)\n",
    "    cursor.execute(booking_delete_tables_trigger)\n",
    "    cursor.execute(booking_update_tables_trigger)\n",
    "    print(\"All the statements have been executed successfully\")\n",
    "\n",
    "except Error as e :\n",
    "    print(\"The problem that we have ran onto is {e}\")\n",
    "finally:\n",
    "    if conn.is_conected():\n",
    "        cursor.close()\n",
    "        connection.close()\n",
    "        print(\"System Offline\")\n",
    "    else:\n",
    "        print(\"Anomaly Detected Beware of the Fridges\")\n",
    "    "
   ]
  },
  {
   "cell_type": "markdown",
   "id": "22b969aa-1bd9-4eab-adfc-c65978a111b2",
   "metadata": {},
   "source": [
    "## Have a great day ahead"
   ]
  },
  {
   "cell_type": "code",
   "execution_count": null,
   "id": "fa696ad2-831a-45d4-8218-03015ef1a215",
   "metadata": {},
   "outputs": [],
   "source": []
  }
 ],
 "metadata": {
  "kernelspec": {
   "display_name": "Python 3 (ipykernel)",
   "language": "python",
   "name": "python3"
  },
  "language_info": {
   "codemirror_mode": {
    "name": "ipython",
    "version": 3
   },
   "file_extension": ".py",
   "mimetype": "text/x-python",
   "name": "python",
   "nbconvert_exporter": "python",
   "pygments_lexer": "ipython3",
   "version": "3.13.1"
  }
 },
 "nbformat": 4,
 "nbformat_minor": 5
}
