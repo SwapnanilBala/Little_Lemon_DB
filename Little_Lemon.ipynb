{
 "cells": [
  {
   "cell_type": "markdown",
   "id": "c307f54a-3457-4043-ac73-fdf88da7e43c",
   "metadata": {},
   "source": [
    "### This notebook will have a detailed analysis of Little Lemon DB"
   ]
  },
  {
   "cell_type": "markdown",
   "id": "28876cfd-0989-46a9-b841-8d9106fd85a1",
   "metadata": {},
   "source": [
    "#### Importing the required modules"
   ]
  },
  {
   "cell_type": "code",
   "execution_count": 1,
   "id": "cee6bfa9-7d05-4003-8078-835ef566e845",
   "metadata": {},
   "outputs": [],
   "source": [
    "# !pip list , this is check if the required modules are already present within the database"
   ]
  },
  {
   "cell_type": "code",
   "execution_count": 2,
   "id": "b3797feb-2b9a-49eb-829e-87c29e943941",
   "metadata": {},
   "outputs": [],
   "source": [
    "# !python -m pip install pandas\n",
    "# !python -m pip install numpy\n",
    "# !python -m pip install seaborn"
   ]
  },
  {
   "cell_type": "code",
   "execution_count": 3,
   "id": "ddcc9a62-965a-4ae0-8dfd-752ef1654d01",
   "metadata": {},
   "outputs": [
    {
     "name": "stdout",
     "output_type": "stream",
     "text": [
      " ** imported successfully ** \n"
     ]
    }
   ],
   "source": [
    "try:\n",
    "    import mysql.connector as connection\n",
    "    import numpy as np \n",
    "    import pandas as pd\n",
    "    import seaborn as sns\n",
    "    print(\" ** imported successfully ** \")\n",
    "except:\n",
    "    print(\" **one or more wrong import statement** \")"
   ]
  },
  {
   "cell_type": "markdown",
   "id": "cfcfb124-322f-4b14-8de7-a53e2d7fb2a8",
   "metadata": {},
   "source": [
    "#### Establishing the Live Connection with our Database \n",
    "#### Which is in my local storage"
   ]
  },
  {
   "cell_type": "code",
   "execution_count": 4,
   "id": "d81d1aca-ffdd-4925-8c76-0136be856de6",
   "metadata": {},
   "outputs": [
    {
     "name": "stdout",
     "output_type": "stream",
     "text": [
      "The connection alongside the cursor is live\n"
     ]
    }
   ],
   "source": [
    "try:\n",
    "    conn = connection.connect(user = \"root\",\n",
    "                              password = \"Meremember1@#\",\n",
    "                              host = \"localhost\",\n",
    "                              database =\"mydb\")\n",
    "    cursor = conn.cursor(buffered = True)\n",
    "    print(\"The connection alongside the cursor is live\")\n",
    "except Error as e:\n",
    "    print(f'The error that has occured: {e}  ')"
   ]
  },
  {
   "cell_type": "markdown",
   "id": "ad5f89e5-4e5c-4e87-a1b4-79d64ca0cf14",
   "metadata": {},
   "source": [
    "### The code block below will immediately terminate the live connection\n",
    "#### so only execute if anything gets messed up"
   ]
  },
  {
   "cell_type": "code",
   "execution_count": 11,
   "id": "6e839089-a4c0-4cc5-9d34-5459f615b6fc",
   "metadata": {},
   "outputs": [
    {
     "name": "stdout",
     "output_type": "stream",
     "text": [
      "the connection and the cursor both have been closed\n"
     ]
    }
   ],
   "source": [
    "\n",
    "\n",
    "try:\n",
    "    if conn.is_connected():\n",
    "        cursor.close()\n",
    "        conn.close()\n",
    "        print(\"the connection and the cursor both have been closed\")\n",
    "    else:\n",
    "        print(\"There is no live connection\")\n",
    "except Error as e:\n",
    "    print(f'The unknown variable is:  {e} ')\n",
    "    "
   ]
  },
  {
   "cell_type": "markdown",
   "id": "d948519f-737a-4db8-9a0c-bf98810f7c8a",
   "metadata": {},
   "source": [
    "#### Now we shall store some randomly generated data into our database\n",
    "#### we will use these data to analyze our booking and tracking system\n"
   ]
  },
  {
   "cell_type": "code",
   "execution_count": 13,
   "id": "ab298334-d446-4437-836d-d583c5b3215a",
   "metadata": {},
   "outputs": [
    {
     "name": "stdout",
     "output_type": "stream",
     "text": [
      "<class 'list'>\n"
     ]
    }
   ],
   "source": [
    "cursor.execute(\"\"\"SHOW TABLES;\"\"\")\n",
    "type_guess = type(cursor.fetchall())\n",
    "print(type_guess)"
   ]
  },
  {
   "cell_type": "code",
   "execution_count": 21,
   "id": "9895c364-6e0d-40a6-8cf7-ab341b8c05fe",
   "metadata": {},
   "outputs": [
    {
     "name": "stdout",
     "output_type": "stream",
     "text": [
      "mydb database is in use\n",
      " \n",
      "The names of the tables are\n",
      " \n"
     ]
    },
    {
     "ename": "IndexError",
     "evalue": "tuple index out of range",
     "output_type": "error",
     "traceback": [
      "\u001b[1;31m---------------------------------------------------------------------------\u001b[0m",
      "\u001b[1;31mIndexError\u001b[0m                                Traceback (most recent call last)",
      "Cell \u001b[1;32mIn[21], line 10\u001b[0m\n\u001b[0;32m      8\u001b[0m \u001b[38;5;28mprint\u001b[39m(\u001b[38;5;124m\"\u001b[39m\u001b[38;5;124m \u001b[39m\u001b[38;5;124m\"\u001b[39m)\n\u001b[0;32m      9\u001b[0m \u001b[38;5;28;01mfor\u001b[39;00m index,item \u001b[38;5;129;01min\u001b[39;00m \u001b[38;5;28menumerate\u001b[39m(tables, start \u001b[38;5;241m=\u001b[39m \u001b[38;5;241m1\u001b[39m):\n\u001b[1;32m---> 10\u001b[0m     \u001b[38;5;28mprint\u001b[39m(\u001b[38;5;124mf\u001b[39m\u001b[38;5;124m'\u001b[39m\u001b[38;5;132;01m{\u001b[39;00mindex\u001b[38;5;132;01m}\u001b[39;00m\u001b[38;5;124m.  \u001b[39m\u001b[38;5;132;01m{\u001b[39;00mitem[\u001b[38;5;241m0\u001b[39m]\u001b[38;5;132;01m}\u001b[39;00m\u001b[38;5;124m \u001b[39m\u001b[38;5;132;01m{\u001b[39;00m\u001b[43mitem\u001b[49m\u001b[43m[\u001b[49m\u001b[38;5;241;43m1\u001b[39;49m\u001b[43m]\u001b[49m\u001b[38;5;132;01m}\u001b[39;00m\u001b[38;5;124m \u001b[39m\u001b[38;5;124m'\u001b[39m)\n",
      "\u001b[1;31mIndexError\u001b[0m: tuple index out of range"
     ]
    }
   ],
   "source": [
    "# taking a quick look at all the tables that are present witin thr database\n",
    "cursor.execute(\"\"\"USE mydb;\"\"\")\n",
    "print(\"mydb database is in use\")\n",
    "cursor.execute(\"\"\"SHOW TABLES;\"\"\")\n",
    "tables = cursor.fetchall()\n",
    "print(\" \")\n",
    "print(\"The names of the tables are\")\n",
    "print(\" \")\n",
    "for index,item in enumerate(tables, start = 1):\n",
    "    print(f'{index}.  {item[0]} ')\n",
    "    \n",
    "    \n",
    "    \n",
    "    "
   ]
  },
  {
   "cell_type": "code",
   "execution_count": null,
   "id": "12a42bfd-dee8-44af-a723-5b46cb3e6110",
   "metadata": {},
   "outputs": [],
   "source": []
  }
 ],
 "metadata": {
  "kernelspec": {
   "display_name": "Python 3 (ipykernel)",
   "language": "python",
   "name": "python3"
  },
  "language_info": {
   "codemirror_mode": {
    "name": "ipython",
    "version": 3
   },
   "file_extension": ".py",
   "mimetype": "text/x-python",
   "name": "python",
   "nbconvert_exporter": "python",
   "pygments_lexer": "ipython3",
   "version": "3.13.1"
  }
 },
 "nbformat": 4,
 "nbformat_minor": 5
}
