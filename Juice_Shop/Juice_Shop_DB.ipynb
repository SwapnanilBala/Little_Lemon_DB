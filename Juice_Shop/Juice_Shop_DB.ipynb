{
 "cells": [
  {
   "cell_type": "code",
   "execution_count": 2,
   "id": "92e51e9d-7ac8-41d5-8c7d-6ed113c5383a",
   "metadata": {},
   "outputs": [
    {
     "name": "stdout",
     "output_type": "stream",
     "text": [
      "The the mentioned modules have sucessfully been imported\n"
     ]
    }
   ],
   "source": [
    "import mysql.connector as connection\n",
    "import pandas as pd\n",
    "from mysql.connector import Error\n",
    "print(\"The the mentioned modules have sucessfully been imported\")"
   ]
  },
  {
   "cell_type": "code",
   "execution_count": null,
   "id": "c202f0db-0825-4968-9bcb-fd6ce6b1de00",
   "metadata": {},
   "outputs": [],
   "source": [
    "# try:\n",
    "#     conn = connection.connect(user = \"root\",\n",
    "#                              password = \"Meremember1@#\",\n",
    "#                              host = \"localhost\" \n",
    "#                              database = \"juice_shop\")\n",
    "#     if conn.is_connected():\n",
    "#         cursor = connection.cursor()\n",
    "#         print(\"Live Connection Estabisished\")\n",
    "#         print(\"The Cursor is also in Use\")\n",
    "#     else:\n",
    "#         print(\"The Connection could not be estabisished due to tecnical issues\")\n",
    "# except Error as e:\n",
    "#     print(f\"The issue we have ran onto is:  {e} \")"
   ]
  },
  {
   "cell_type": "code",
   "execution_count": 3,
   "id": "55a52089-22ba-417f-b94b-3f0fe2d225e3",
   "metadata": {},
   "outputs": [
    {
     "name": "stdout",
     "output_type": "stream",
     "text": [
      "Connection Pool with 5 live connection \n",
      " alongside the cursor is live\n",
      "Connection has been closed successfully\n"
     ]
    }
   ],
   "source": [
    "# from mysql.connector import Error\n",
    "# from mysql.connector.pooling import MySQLConnectionPool\n",
    "\n",
    "# db_config = {'user' : 'root',\n",
    "#              'password' : \"Meremember1@#\",\n",
    "#              'database' : 'juice_shop',\n",
    "#              'host' : 'localhost'\n",
    "#             }\n",
    "\n",
    "# try:\n",
    "#     pool_a = MySQLConnectionPool(pool_name = 'Swapnanils',\n",
    "#                                  pool_size = 5,\n",
    "#                                  **db_config\n",
    "#                                 )\n",
    "#     connection = pool_a.get_connection()\n",
    "#     cursor = connection.cursor(buffered = True)\n",
    "#     print(\"Connection Pool with 5 live connection \\n alongside the cursor is live\")\n",
    "\n",
    "# except Error as e:\n",
    "#     print(f'the problem that we have ran onto is : {e}')\n",
    "# finally:\n",
    "#     if connection.is_connected():\n",
    "#         cursor.close()\n",
    "#         connection.close()\n",
    "#         print(\"Connection has been closed successfully\")\n",
    "        \n",
    "    \n",
    "\n"
   ]
  },
  {
   "cell_type": "code",
   "execution_count": null,
   "id": "a9b9a24d-36c6-44db-aaf8-a9b56692d343",
   "metadata": {},
   "outputs": [],
   "source": [
    "# from mysql.connector import Error\n",
    "# from mysql.connector.pooling import MySQLConnectionPool\n",
    "\n",
    "# # Define database configurations for different users\n",
    "# user1_config = {\n",
    "#     'user': 'user1',\n",
    "#     'password': 'Password1@#',\n",
    "#     'database': 'juice_shop',\n",
    "#     'host': 'localhost'\n",
    "# }\n",
    "\n",
    "# user2_config = {\n",
    "#     'user': 'user2',\n",
    "#     'password': 'Password2@#',\n",
    "#     'database': 'juice_shop',\n",
    "#     'host': 'localhost'\n",
    "# }\n",
    "\n",
    "# try:\n",
    "#     # Create connection pools for each user\n",
    "#     pool_user1 = MySQLConnectionPool(pool_name='User1_Pool', pool_size=3, **user1_config)\n",
    "#     pool_user2 = MySQLConnectionPool(pool_name='User2_Pool', pool_size=3, **user2_config)\n",
    "\n",
    "#     # Get connections from each pool\n",
    "#     connection_user1 = pool_user1.get_connection()\n",
    "#     cursor_user1 = connection_user1.cursor(buffered=True)\n",
    "#     print(\"User1's connection pool and cursor are live.\")\n",
    "\n",
    "#     connection_user2 = pool_user2.get_connection()\n",
    "#     cursor_user2 = connection_user2.cursor(buffered=True)\n",
    "#     print(\"User2's connection pool and cursor are live.\")\n",
    "\n",
    "#     # Example queries for each user\n",
    "#     cursor_user1.execute(\"SELECT DATABASE();\")\n",
    "#     print(\"User1 is connected to:\", cursor_user1.fetchone())\n",
    "\n",
    "#     cursor_user2.execute(\"SELECT DATABASE();\")\n",
    "#     print(\"User2 is connected to:\", cursor_user2.fetchone())\n",
    "\n",
    "# except Error as e:\n",
    "#     print(f\"An error occurred: {e}\")\n",
    "\n",
    "# finally:\n",
    "#     # Safely close connections and cursors\n",
    "#     if 'connection_user1' in locals() and connection_user1.is_connected():\n",
    "#         cursor_user1.close()\n",
    "#         connection_user1.close()\n",
    "#         print(\"User1's connection has been closed.\")\n",
    "\n",
    "#     if 'connection_user2' in locals() and connection_user2.is_connected():\n",
    "#         cursor_user2.close()\n",
    "#         connection_user2.close()\n",
    "#         print(\"User2's connection has been closed.\")\n"
   ]
  },
  {
   "cell_type": "markdown",
   "id": "71fcd5ab-ed6c-41a6-bc58-efb0c3a5917c",
   "metadata": {},
   "source": [
    "### SOME ADDITIONAL NOTES REGARDING USERS /"
   ]
  },
  {
   "cell_type": "code",
   "execution_count": null,
   "id": "8bd555fa-5d3e-4963-a7eb-291caf6ac147",
   "metadata": {},
   "outputs": [],
   "source": [
    "# CREATE USER 'data_user'@'localhost' IDENTIFIED BY 'SecurePass123!'; -- Creates a new User\n",
    "\n",
    "# GRANT ALL PRIVILEGES ON juice_shop.* TO 'data_user'@'localhost'; -- Gives the users all Privileges \n",
    "\n",
    "# FLUSH PRIVILEGES; -- This applies all the new changes\n"
   ]
  },
  {
   "cell_type": "code",
   "execution_count": null,
   "id": "0346368f-1ab6-49d1-8a00-c04408dce1e0",
   "metadata": {},
   "outputs": [],
   "source": [
    "# SHOW GRANTS FOR 'data_user'@'localhost'; -- this verifiers the user privileges\n",
    "\n",
    "# GRANT SELECT, INSERT ON juice_shop.* TO 'data_user'@'localhost'; -- Restricting to limited access and usage\n",
    "\n",
    "# REVOKE ALL PRIVILEGES ON juice_shop.* FROM 'data_user'@'localhost'; -- Revokes all the permission from the user\n"
   ]
  },
  {
   "cell_type": "code",
   "execution_count": 30,
   "id": "de5ab453-779f-449d-8842-06060552cc28",
   "metadata": {},
   "outputs": [
    {
     "name": "stdout",
     "output_type": "stream",
     "text": [
      "Connection Estabilished\n",
      " \n",
      "Gogol has asked for customer name: ['Jane Smith'] and phone_number ['9876543210']\n",
      "\n",
      "Connections Closed\n"
     ]
    }
   ],
   "source": [
    "pool_b_gogol = MySQLConnectionPool(pool_name = 'juice',\n",
    "                             pool_size = 3,\n",
    "                             **db_config)\n",
    "try:\n",
    "    connection = pool_b_gogol.get_connection()\n",
    "    cursor = connection.cursor()\n",
    "    print(\"Connection Estabilished\")\n",
    "    print(\" \")\n",
    "    cursor.execute(\"SELECT CONCAT(FIRST_NAME,' ',LAST_NAME) AS Name , PHONE_NO FROM customers WHERE CUSTOMER_ID = 2;\")\n",
    "    info = cursor.fetchall()\n",
    "    name = [items[0] for items in info]\n",
    "    number = [items[1] for items in info]\n",
    "    length = len(info)\n",
    "    print(f\"Gogol has asked for customer name: {name} and phone_number {number}\")\n",
    "    print(\"\")\n",
    "except Error as e:\n",
    "    print(e)\n",
    "finally:\n",
    "    if connection.is_connected():\n",
    "        cursor.close()\n",
    "        connection.close()\n",
    "        print(\"Connections Closed\")"
   ]
  },
  {
   "cell_type": "code",
   "execution_count": 27,
   "id": "1f7dcccf-8122-4043-83ac-07c1b2121707",
   "metadata": {},
   "outputs": [
    {
     "name": "stdout",
     "output_type": "stream",
     "text": [
      "9876543210\n"
     ]
    }
   ],
   "source": [
    "list = [('Jane Smith', '9876543210')]\n",
    "for items in list:\n",
    "    print(items[1])"
   ]
  },
  {
   "cell_type": "code",
   "execution_count": null,
   "id": "9ce3f5d4-cdc8-42f0-9261-877384fbe791",
   "metadata": {},
   "outputs": [],
   "source": []
  }
 ],
 "metadata": {
  "kernelspec": {
   "display_name": "Python 3 (ipykernel)",
   "language": "python",
   "name": "python3"
  },
  "language_info": {
   "codemirror_mode": {
    "name": "ipython",
    "version": 3
   },
   "file_extension": ".py",
   "mimetype": "text/x-python",
   "name": "python",
   "nbconvert_exporter": "python",
   "pygments_lexer": "ipython3",
   "version": "3.13.1"
  }
 },
 "nbformat": 4,
 "nbformat_minor": 5
}
