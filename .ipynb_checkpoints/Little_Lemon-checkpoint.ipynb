{
 "cells": [
  {
   "cell_type": "markdown",
   "id": "c307f54a-3457-4043-ac73-fdf88da7e43c",
   "metadata": {},
   "source": [
    "### This notebook will have a detailed analysis of Little Lemon DB"
   ]
  },
  {
   "cell_type": "markdown",
   "id": "28876cfd-0989-46a9-b841-8d9106fd85a1",
   "metadata": {},
   "source": [
    "#### Importing the required modules"
   ]
  },
  {
   "cell_type": "code",
   "execution_count": null,
   "id": "cee6bfa9-7d05-4003-8078-835ef566e845",
   "metadata": {},
   "outputs": [],
   "source": [
    "# !pip list , this is check if the required modules are already present within the database"
   ]
  },
  {
   "cell_type": "code",
   "execution_count": null,
   "id": "b3797feb-2b9a-49eb-829e-87c29e943941",
   "metadata": {},
   "outputs": [],
   "source": [
    "# !python -m pip install pandas\n",
    "# !python -m pip install numpy\n",
    "# !python -m pip install seaborn"
   ]
  },
  {
   "cell_type": "code",
   "execution_count": null,
   "id": "ddcc9a62-965a-4ae0-8dfd-752ef1654d01",
   "metadata": {},
   "outputs": [],
   "source": [
    "try:\n",
    "    import mysql.connector as connection\n",
    "    import numpy as np \n",
    "    import pandas as pd\n",
    "    import seaborn as sns\n",
    "    print(\" ** imported successfully ** \")\n",
    "except:\n",
    "    print(\" **one or more wrong import statement** \")"
   ]
  },
  {
   "cell_type": "markdown",
   "id": "cfcfb124-322f-4b14-8de7-a53e2d7fb2a8",
   "metadata": {},
   "source": [
    "#### Establishing the Live Connection with our Database \n",
    "#### Which is in my local storage"
   ]
  },
  {
   "cell_type": "code",
   "execution_count": null,
   "id": "d81d1aca-ffdd-4925-8c76-0136be856de6",
   "metadata": {},
   "outputs": [],
   "source": [
    "try:\n",
    "    conn = connection.connect(user = \"root\",\n",
    "                              password = \"Meremember1@#\",\n",
    "                              host = \"localhost\",\n",
    "                              database =\"mydb\")\n",
    "    cursor = conn.cursor(buffered = True)\n",
    "    print(\"The connection alongside the cursor is live\")\n",
    "except Error as e:\n",
    "    print(f'The error that has occured: {e}  ')"
   ]
  },
  {
   "cell_type": "markdown",
   "id": "ad5f89e5-4e5c-4e87-a1b4-79d64ca0cf14",
   "metadata": {},
   "source": [
    "### The code block below will immediately terminate the live connection\n",
    "#### so only execute if anything gets messed up"
   ]
  },
  {
   "cell_type": "code",
   "execution_count": null,
   "id": "6e839089-a4c0-4cc5-9d34-5459f615b6fc",
   "metadata": {},
   "outputs": [],
   "source": [
    "\n",
    "\n",
    "try:\n",
    "    if conn.is_connected():\n",
    "        cursor.close()\n",
    "        conn.close()\n",
    "        print(\"the connection and the cursor both have been closed\")\n",
    "    else:\n",
    "        print(\"There is no live connection\")\n",
    "except Error as e:\n",
    "    print(f'The unknown variable is:  {e} ')\n",
    "    "
   ]
  },
  {
   "cell_type": "markdown",
   "id": "d948519f-737a-4db8-9a0c-bf98810f7c8a",
   "metadata": {},
   "source": [
    "#### Now we shall store some randomly generated data into our database\n",
    "#### we will use these data to analyze our booking and tracking system\n"
   ]
  },
  {
   "cell_type": "code",
   "execution_count": null,
   "id": "ab298334-d446-4437-836d-d583c5b3215a",
   "metadata": {},
   "outputs": [],
   "source": [
    "cursor.execute(\"\"\"SHOW TABLES;\"\"\")\n",
    "type_guess = type(cursor.fetchall())\n",
    "print(type_guess)"
   ]
  },
  {
   "cell_type": "code",
   "execution_count": null,
   "id": "9895c364-6e0d-40a6-8cf7-ab341b8c05fe",
   "metadata": {},
   "outputs": [],
   "source": [
    "# taking a quick look at all the tables that are present witin thr database\n",
    "cursor.execute(\"\"\"USE mydb;\"\"\")\n",
    "print(\"mydb database is in use\")\n",
    "cursor.execute(\"\"\"SHOW TABLES;\"\"\")\n",
    "tables = cursor.fetchall()\n",
    "print(\" \")\n",
    "print(\"The names of the tables are\")\n",
    "print(\" \")\n",
    "for index,item in enumerate(tables, start = 1):\n",
    "    print(f'{index}.  {item[0]} ')\n",
    "    \n",
    "    \n",
    "    \n",
    "    "
   ]
  },
  {
   "cell_type": "markdown",
   "id": "4bcb0e23-a630-4292-8263-abf47a6c29de",
   "metadata": {},
   "source": [
    "##### ** Before inserting the data we are taking one table **\n",
    "##### ** and describing items in it like data type etc **"
   ]
  },
  {
   "cell_type": "code",
   "execution_count": null,
   "id": "2604d0ec-42bf-4bb8-8eae-43eb76578ad5",
   "metadata": {},
   "outputs": [],
   "source": [
    "cursor.execute(\"\"\"Describe Status;\"\"\")\n",
    "bookings_table = cursor.fetchall()\n",
    "for items in bookings_table:\n",
    "    print(items)\n",
    "    print(\"\")"
   ]
  },
  {
   "cell_type": "markdown",
   "id": "6ce635dc-95a9-4c41-96e2-ec077ea7ed67",
   "metadata": {},
   "source": [
    "#### ** Defining the insert commands into specific variables **"
   ]
  },
  {
   "cell_type": "code",
   "execution_count": null,
   "id": "eff36b3a-4711-4dbf-acbd-c1925df50b6e",
   "metadata": {},
   "outputs": [],
   "source": [
    "# queries for inserting data into bookings table\n",
    "\n",
    "insert_bookings = (\"\"\"\n",
    "INSERT INTO bookings (Customer_ID, Booking_Time, Total_Customers) VALUES (45, '2023-06-15 14:30:00', 4);\n",
    "INSERT INTO bookings (Customer_ID, Booking_Time, Total_Customers) VALUES (32, '2023-12-11 19:45:00', 2);\n",
    "INSERT INTO bookings (Customer_ID, Booking_Time, Total_Customers) VALUES (17, '2024-04-22 11:15:00', 6);\n",
    "INSERT INTO bookings (Customer_ID, Booking_Time, Total_Customers) VALUES (89, '2023-09-09 21:00:00', 8);\n",
    "INSERT INTO bookings (Customer_ID, Booking_Time, Total_Customers) VALUES (54, '2023-03-01 16:00:00', 5);\n",
    "INSERT INTO bookings (Customer_ID, Booking_Time, Total_Customers) VALUES (23, '2024-01-14 10:30:00', 3);\n",
    "INSERT INTO bookings (Customer_ID, Booking_Time, Total_Customers) VALUES (78, '2024-05-30 13:00:00', 9);\n",
    "INSERT INTO bookings (Customer_ID, Booking_Time, Total_Customers) VALUES (61, '2023-07-27 12:45:00', 1);\n",
    "INSERT INTO bookings (Customer_ID, Booking_Time, Total_Customers) VALUES (15, '2024-03-19 20:15:00', 7);\n",
    "INSERT INTO bookings (Customer_ID, Booking_Time, Total_Customers) VALUES (36, '2024-06-05 09:30:00', 2);\n",
    "INSERT INTO bookings (Customer_ID, Booking_Time, Total_Customers) VALUES (49, '2023-11-03 18:20:00', 10);\n",
    "INSERT INTO bookings (Customer_ID, Booking_Time, Total_Customers) VALUES (27, '2024-07-11 08:50:00', 6);\n",
    "INSERT INTO bookings (Customer_ID, Booking_Time, Total_Customers) VALUES (90, '2023-10-21 15:35:00', 5);\n",
    "INSERT INTO bookings (Customer_ID, Booking_Time, Total_Customers) VALUES (12, '2024-02-28 22:10:00', 3);\n",
    "INSERT INTO bookings (Customer_ID, Booking_Time, Total_Customers) VALUES (71, '2023-08-13 14:10:00', 4);\n",
    "\"\"\")"
   ]
  },
  {
   "cell_type": "code",
   "execution_count": null,
   "id": "3ccfa97a-5fb4-4b7b-af37-563e7da606fa",
   "metadata": {},
   "outputs": [],
   "source": [
    "# queries for inserting data into customers table\n",
    "\n",
    "insert_customers = (\"\"\"\n",
    "INSERT INTO customers (First_Name, Last_Name, Email, Phone) VALUES ('Hiroshi', 'Tanaka', 'hiroshi.tanaka@example.jp', '+81-90-1234-5678');\n",
    "INSERT INTO customers (First_Name, Last_Name, Email, Phone) VALUES ('Aisha', 'Khan', 'aisha.khan@example.pk', '+92-300-567-8901');\n",
    "INSERT INTO customers (First_Name, Last_Name, Email, Phone) VALUES ('Carlos', 'Gomez', 'carlos.gomez@example.es', '+34-612-345-678');\n",
    "INSERT INTO customers (First_Name, Last_Name, Email, Phone) VALUES ('Fatima', 'Ahmed', 'fatima.ahmed@example.sa', '+966-50-123-4567');\n",
    "INSERT INTO customers (First_Name, Last_Name, Email, Phone) VALUES ('Ivan', 'Petrov', 'ivan.petrov@example.ru', '+7-911-123-4567');\n",
    "INSERT INTO customers (First_Name, Last_Name, Email, Phone) VALUES ('Chen', 'Wei', 'chen.wei@example.cn', '+86-139-1234-5678');\n",
    "INSERT INTO customers (First_Name, Last_Name, Email, Phone) VALUES ('Sophia', 'Müller', 'sophia.mueller@example.de', '+49-172-345-6789');\n",
    "INSERT INTO customers (First_Name, Last_Name, Email, Phone) VALUES ('Liam', 'O\\'Connor', 'liam.oconnor@example.ie', '+353-87-123-4567');\n",
    "INSERT INTO customers (First_Name, Last_Name, Email, Phone) VALUES ('Amara', 'Ndiaye', 'amara.ndiaye@example.sn', '+221-77-123-4567');\n",
    "INSERT INTO customers (First_Name, Last_Name, Email, Phone) VALUES ('Raj', 'Patel', 'raj.patel@example.in', '+91-98765-43210');\n",
    "INSERT INTO customers (First_Name, Last_Name, Email, Phone) VALUES ('Emily', 'Smith', 'emily.smith@example.au', '+61-412-345-678');\n",
    "INSERT INTO customers (First_Name, Last_Name, Email, Phone) VALUES ('Ahmed', 'El-Sayed', 'ahmed.elsayed@example.eg', '+20-100-123-4567');\n",
    "INSERT INTO customers (First_Name, Last_Name, Email, Phone) VALUES ('Olivia', 'Rossi', 'olivia.rossi@example.it', '+39-347-123-4567');\n",
    "INSERT INTO customers (First_Name, Last_Name, Email, Phone) VALUES ('Mei', 'Yamada', 'mei.yamada@example.jp', '+81-80-1234-5678');\n",
    "INSERT INTO customers (First_Name, Last_Name, Email, Phone) VALUES ('Andrés', 'Martínez', 'andres.martinez@example.mx', '+52-55-1234-5678');\n",
    "\n",
    "\"\"\")"
   ]
  },
  {
   "cell_type": "code",
   "execution_count": null,
   "id": "f9381153-0474-4caa-88bc-3be611007af9",
   "metadata": {},
   "outputs": [],
   "source": [
    "# queries for inserting data into menu table\n",
    "insert_menu = (\"\"\"\n",
    "INSERT INTO menu (Order_ID, Cuisine, Food_Name, Food_Type, Price, Discount) VALUES (1, 'Italian', 'Margherita Pizza', 'Main Course', 12.99, 0.10);\n",
    "INSERT INTO menu (Order_ID, Cuisine, Food_Name, Food_Type, Price, Discount) VALUES (2, 'Japanese', 'Sushi Rolls', 'Appetizer', 18.50, 0.05);\n",
    "INSERT INTO menu (Order_ID, Cuisine, Food_Name, Food_Type, Price, Discount) VALUES (3, 'Mexican', 'Tacos', 'Main Course', 8.99, 0.15);\n",
    "INSERT INTO menu (Order_ID, Cuisine, Food_Name, Food_Type, Price, Discount) VALUES (4, 'Indian', 'Butter Chicken', 'Main Course', 14.50, 0.20);\n",
    "INSERT INTO menu (Order_ID, Cuisine, Food_Name, Food_Type, Price, Discount) VALUES (5, 'Chinese', 'Sweet and Sour Pork', 'Main Course', 11.75, 0.00);\n",
    "INSERT INTO menu (Order_ID, Cuisine, Food_Name, Food_Type, Price, Discount) VALUES (6, 'French', 'Croissant', 'Snack', 3.50, 0.10);\n",
    "INSERT INTO menu (Order_ID, Cuisine, Food_Name, Food_Type, Price, Discount) VALUES (7, 'American', 'Cheeseburger', 'Main Course', 9.99, 0.25);\n",
    "INSERT INTO menu (Order_ID, Cuisine, Food_Name, Food_Type, Price, Discount) VALUES (8, 'Thai', 'Pad Thai', 'Main Course', 13.00, 0.00);\n",
    "INSERT INTO menu (Order_ID, Cuisine, Food_Name, Food_Type, Price, Discount) VALUES (9, 'Lebanese', 'Hummus with Pita', 'Appetizer', 7.50, 0.05);\n",
    "INSERT INTO menu (Order_ID, Cuisine, Food_Name, Food_Type, Price, Discount) VALUES (10, 'Italian', 'Spaghetti Carbonara', 'Main Course', 15.00, 0.12);\n",
    "INSERT INTO menu (Order_ID, Cuisine, Food_Name, Food_Type, Price, Discount) VALUES (11, 'Greek', 'Moussaka', 'Main Course', 16.99, 0.08);\n",
    "INSERT INTO menu (Order_ID, Cuisine, Food_Name, Food_Type, Price, Discount) VALUES (12, 'Spanish', 'Paella', 'Main Course', 20.00, 0.15);\n",
    "INSERT INTO menu (Order_ID, Cuisine, Food_Name, Food_Type, Price, Discount) VALUES (13, 'Japanese', 'Ramen', 'Main Course', 10.99, 0.10);\n",
    "INSERT INTO menu (Order_ID, Cuisine, Food_Name, Food_Type, Price, Discount) VALUES (14, 'Indian', 'Samosa', 'Appetizer', 5.50, 0.00);\n",
    "INSERT INTO menu (Order_ID, Cuisine, Food_Name, Food_Type, Price, Discount) VALUES (15, 'Mexican', 'Quesadilla', 'Main Course', 12.50, 0.20);\n",
    "\n",
    "\"\"\")"
   ]
  },
  {
   "cell_type": "code",
   "execution_count": null,
   "id": "addcdf42-5aef-4f6a-b284-280025a70ff1",
   "metadata": {},
   "outputs": [],
   "source": [
    "insert_orders = (\"\"\"\n",
    "INSERT INTO orders (Booking_ID, Quantity, Table_No) VALUES (1, 3, 5);\n",
    "INSERT INTO orders (Booking_ID, Quantity, Table_No) VALUES (2, 2, 7);\n",
    "INSERT INTO orders (Booking_ID, Quantity, Table_No) VALUES (3, 1, 4);\n",
    "INSERT INTO orders (Booking_ID, Quantity, Table_No) VALUES (4, 4, 2);\n",
    "INSERT INTO orders (Booking_ID, Quantity, Table_No) VALUES (5, 5, 6);\n",
    "INSERT INTO orders (Booking_ID, Quantity, Table_No) VALUES (6, 2, 3);\n",
    "INSERT INTO orders (Booking_ID, Quantity, Table_No) VALUES (7, 6, 1);\n",
    "INSERT INTO orders (Booking_ID, Quantity, Table_No) VALUES (8, 3, 8);\n",
    "INSERT INTO orders (Booking_ID, Quantity, Table_No) VALUES (9, 4, 9);\n",
    "INSERT INTO orders (Booking_ID, Quantity, Table_No) VALUES (10, 2, 10);\n",
    "INSERT INTO orders (Booking_ID, Quantity, Table_No) VALUES (11, 7, 11);\n",
    "INSERT INTO orders (Booking_ID, Quantity, Table_No) VALUES (12, 1, 12);\n",
    "INSERT INTO orders (Booking_ID, Quantity, Table_No) VALUES (13, 3, 13);\n",
    "INSERT INTO orders (Booking_ID, Quantity, Table_No) VALUES (14, 2, 14);\n",
    "INSERT INTO orders (Booking_ID, Quantity, Table_No) VALUES (15, 5, 15);\n",
    "\n",
    "\"\"\")"
   ]
  },
  {
   "cell_type": "code",
   "execution_count": null,
   "id": "fe9d7d86-ce87-49bd-adb1-2187e080f59b",
   "metadata": {},
   "outputs": [],
   "source": [
    "insert_payment = (\"\"\"\n",
    "\n",
    "INSERT INTO payment (Order_ID, Total_Amount, Payment_Type, Feedback) VALUES (1, 41.97, 'Credit', 'Excellent Service');\n",
    "INSERT INTO payment (Order_ID, Total_Amount, Payment_Type, Feedback) VALUES (2, 45.00, 'Debit', 'Good Experience');\n",
    "INSERT INTO payment (Order_ID, Total_Amount, Payment_Type, Feedback) VALUES (3, 11.99, 'Cash', 'Satisfactory');\n",
    "INSERT INTO payment (Order_ID, Total_Amount, Payment_Type, Feedback) VALUES (4, 100.00, 'Credit', 'Delicious Food');\n",
    "INSERT INTO payment (Order_ID, Total_Amount, Payment_Type, Feedback) VALUES (5, 114.95, 'Debit', 'Nice Ambiance');\n",
    "INSERT INTO payment (Order_ID, Total_Amount, Payment_Type, Feedback) VALUES (6, 36.00, 'Cash', 'Great Service');\n",
    "INSERT INTO payment (Order_ID, Total_Amount, Payment_Type, Feedback) VALUES (7, 300.00, 'Credit', 'Amazing Experience');\n",
    "INSERT INTO payment (Order_ID, Total_Amount, Payment_Type, Feedback) VALUES (8, 22.50, 'Debit', 'Quick Service');\n",
    "INSERT INTO payment (Order_ID, Total_Amount, Payment_Type, Feedback) VALUES (9, 75.00, 'Cash', 'Would Come Again');\n",
    "INSERT INTO payment (Order_ID, Total_Amount, Payment_Type, Feedback) VALUES (10, 20.00, 'Credit', 'Decent');\n",
    "INSERT INTO payment (Order_ID, Total_Amount, Payment_Type, Feedback) VALUES (11, 455.00, 'Debit', 'Outstanding');\n",
    "INSERT INTO payment (Order_ID, Total_Amount, Payment_Type, Feedback) VALUES (12, 108.00, 'Credit', 'Good Value');\n",
    "INSERT INTO payment (Order_ID, Total_Amount, Payment_Type, Feedback) VALUES (13, 64.00, 'Cash', 'Very Satisfied');\n",
    "INSERT INTO payment (Order_ID, Total_Amount, Payment_Type, Feedback) VALUES (14, 39.00, 'Debit', 'Average');\n",
    "INSERT INTO payment (Order_ID, Total_Amount, Payment_Type, Feedback) VALUES (15, 112.50, 'Credit', 'Highly Recommend');\n",
    "\n",
    "\"\"\")"
   ]
  },
  {
   "cell_type": "code",
   "execution_count": null,
   "id": "f1b71705-3899-4329-b1fe-a98ff494368d",
   "metadata": {},
   "outputs": [],
   "source": [
    "insert_staff = (\"\"\"\n",
    "INSERT INTO staff (Staff_ID, Table_No) VALUES (1, 5);\n",
    "INSERT INTO staff (Staff_ID, Table_No) VALUES (2, 8);\n",
    "INSERT INTO staff (Staff_ID, Table_No) VALUES (3, 1);\n",
    "INSERT INTO staff (Staff_ID, Table_No) VALUES (4, 3);\n",
    "INSERT INTO staff (Staff_ID, Table_No) VALUES (5, 7);\n",
    "INSERT INTO staff (Staff_ID, Table_No) VALUES (6, 2);\n",
    "INSERT INTO staff (Staff_ID, Table_No) VALUES (7, 12);\n",
    "INSERT INTO staff (Staff_ID, Table_No) VALUES (8, 4);\n",
    "INSERT INTO staff (Staff_ID, Table_No) VALUES (9, 9);\n",
    "INSERT INTO staff (Staff_ID, Table_No) VALUES (10, 15);\n",
    "\n",
    "\"\"\")"
   ]
  },
  {
   "cell_type": "code",
   "execution_count": null,
   "id": "68d078b7-e1be-4c5b-a556-bfb759426406",
   "metadata": {},
   "outputs": [],
   "source": [
    "insert_staff_details = (\"\"\"\n",
    "INSERT INTO staff_details (Staff_ID, Name, Email, Phone_No, Role, Address) VALUES\n",
    "(1, 'John Doe', 'john.doe@example.com', '555-1234', 'Manager', '123 Main St, Springfield, IL'),\n",
    "(2, 'Jane Smith', 'jane.smith@example.com', '555-5678', 'Chef', '456 Elm St, Springfield, IL'),\n",
    "(3, 'Paul Turner', 'paul.turner@example.com', '555-8765', 'Waiter', '789 Oak St, Springfield, IL'),\n",
    "(4, 'Emily Davis', 'emily.davis@example.com', '555-4321', 'Bartender', '321 Pine St, Springfield, IL'),\n",
    "(5, 'Michael Brown', 'michael.brown@example.com', '555-2345', 'Dishwasher', '654 Maple St, Springfield, IL'),\n",
    "(6, 'Sarah Williams', 'sarah.williams@example.com', '555-6789', 'Server', '987 Cedar St, Springfield, IL'),\n",
    "(7, 'David Miller', 'david.miller@example.com', '555-3456', 'Cook', '135 Birch St, Springfield, IL'),\n",
    "(8, 'Olivia Wilson', 'olivia.wilson@example.com', '555-6543', 'Manager', '246 Willow St, Springfield, IL'),\n",
    "(9, 'James Moore', 'james.moore@example.com', '555-7890', 'Waiter', '369 Elm St, Springfield, IL'),\n",
    "(10, 'Linda Taylor', 'linda.taylor@example.com', '555-1122', 'Host', '753 Pine St, Springfield, IL');\n",
    "\"\"\")"
   ]
  },
  {
   "cell_type": "code",
   "execution_count": null,
   "id": "bf9155d2-96e4-4ef8-9434-25b4dfe6487b",
   "metadata": {},
   "outputs": [],
   "source": [
    "insert_status = (\"\"\"\n",
    "\n",
    "INSERT INTO status (Table_No, Status, Feedback) VALUES\n",
    "(1, 'In Progress', 'The order is taking longer than expected.'),\n",
    "(2, 'Pending', 'Waiting for the kitchen to start preparing the food.'),\n",
    "(3, 'Completed', 'Service was quick and efficient!'),\n",
    "(4, 'In Progress', 'Food is taking a bit longer, but the staff is friendly.'),\n",
    "(5, 'Pending', 'Still waiting for confirmation from the kitchen.'),\n",
    "(6, 'Completed', 'Great speed, food arrived faster than expected!'),\n",
    "(7, 'In Progress', 'The order seems to be delayed; waiting for an update.'),\n",
    "(8, 'Pending', 'Food preparation is taking longer than usual.'),\n",
    "(9, 'Completed', 'Excellent service, the food came right on time!'),\n",
    "(10, 'In Progress', 'It’s been a while; hope the food arrives soon.'),\n",
    "(11, 'Completed', 'Very quick and efficient service, will return!'),\n",
    "(12, 'Pending', 'Still awaiting confirmation on the availability of items.'),\n",
    "(13, 'Completed', 'Great timing, everything was served hot and fresh!'),\n",
    "(14, 'In Progress', 'The order is taking too long, hope it’s worth the wait.'),\n",
    "(15, 'Pending', 'Hoping for a quick delivery; not sure about the wait time.');\n",
    "\n",
    "\"\"\")"
   ]
  },
  {
   "cell_type": "markdown",
   "id": "f1cb301e-428f-4fd2-93b9-de41ed34fdd8",
   "metadata": {},
   "source": [
    "#### ** the insertion anomaly could occur \n",
    "#### if we try inserting the referenced data earlier **"
   ]
  },
  {
   "cell_type": "code",
   "execution_count": null,
   "id": "922364e7-1cb0-4374-adba-dc8730588dba",
   "metadata": {},
   "outputs": [],
   "source": [
    "# in case any insertion causes the error\n",
    "# use this to wipe the data and re-enter the data\n",
    "\n",
    "# cursor.execute(\"\"\"DELETE FROM table_name;\"\"\")\n",
    "# cursor.execute(\"\"\"SELECT * FROM table_name;\"\"\")\n",
    "# check = cursor.fetchall()\n",
    "# for items in check:\n",
    "#        print(items)"
   ]
  },
  {
   "cell_type": "code",
   "execution_count": null,
   "id": "e68a2a6e-5c7b-4e02-8e83-73a8f5be1e35",
   "metadata": {},
   "outputs": [],
   "source": [
    "# This is to pre-check if the table already contains data\n",
    "print(\"Now Checking\")\n",
    "cursor.execute(\"\"\"SELECT * FROM customers;\"\"\")\n",
    "commited = cursor.fetchall()\n",
    "for items in commited:\n",
    "    print(items)"
   ]
  },
  {
   "cell_type": "code",
   "execution_count": null,
   "id": "38190579-2b50-4aab-8c1c-02a696b19abb",
   "metadata": {},
   "outputs": [],
   "source": [
    "# First we are inserting the customers data\n",
    "cursor.close()\n",
    "\n",
    "try:\n",
    "    conn = connection.connect(user = \"root\",\n",
    "                              password = \"Meremember1@#\",\n",
    "                              host = \"localhost\",\n",
    "                              database =\"mydb\")\n",
    "    cursor = conn.cursor()\n",
    "    cursor.execute(insert_customers)\n",
    "    print(\"Data Insertion Completed\")\n",
    "    conn.commit()\n",
    "except connection.Error as e:\n",
    "    print(f'The error that has occured is : {e}')\n",
    "finally:\n",
    "    cursor.close()"
   ]
  },
  {
   "cell_type": "code",
   "execution_count": null,
   "id": "cc5c1ae7-311b-40df-880f-cd2afbe57776",
   "metadata": {},
   "outputs": [],
   "source": [
    "# then we are inserting the menu\n",
    "try:\n",
    "    conn = connection.connect(user = \"root\",\n",
    "                              password = \"Meremember1@#\",\n",
    "                              host = \"localhost\",\n",
    "                              database =\"mydb\")\n",
    "    cursor = conn.cursor()\n",
    "    cursor.execute(insert_menu)\n",
    "    print(\"Data Insertion Completed\")\n",
    "    conn.commit()\n",
    "except connection.Error as e:\n",
    "    print(f'The error that has occured is : {e}')\n",
    "finally:\n",
    "    cursor.close()"
   ]
  },
  {
   "cell_type": "code",
   "execution_count": null,
   "id": "57fe6f6f-c4cb-4461-b223-d788a8725e3a",
   "metadata": {},
   "outputs": [],
   "source": [
    "# up next the bookings\n",
    "try:\n",
    "    conn = connection.connect(user = \"root\",\n",
    "                              password = \"Meremember1@#\",\n",
    "                              host = \"localhost\",\n",
    "                              database =\"mydb\")\n",
    "    cursor = conn.cursor()\n",
    "    cursor.execute(insert_bookings)\n",
    "    print(\"Data Insertion Completed\")\n",
    "    conn.commit()\n",
    "except connection.Error as e:\n",
    "    print(f'The error that has occured is : {e}')\n",
    "finally:\n",
    "    cursor.close()"
   ]
  },
  {
   "cell_type": "code",
   "execution_count": null,
   "id": "f6ba690d-ee42-4b3c-8360-339896d9ce38",
   "metadata": {},
   "outputs": [],
   "source": [
    "# finally the main orders table\n",
    "try:\n",
    "    conn = connection.connect(user = \"root\",\n",
    "                              password = \"Meremember1@#\",\n",
    "                              host = \"localhost\",\n",
    "                              database =\"mydb\")\n",
    "    cursor = conn.cursor()\n",
    "    cursor.execute(insert_orders)\n",
    "    print(\"Data Insertion Completed\")\n",
    "    conn.commit()\n",
    "except connection.Error as e:\n",
    "    print(f'The error that has occured is : {e}')\n",
    "finally:\n",
    "    cursor.close()"
   ]
  },
  {
   "cell_type": "code",
   "execution_count": null,
   "id": "03475ebc-96c8-4316-8d8a-532c51df93f4",
   "metadata": {},
   "outputs": [],
   "source": [
    "# now inserting the order status \n",
    "\n",
    "try:\n",
    "    conn = connection.connect(user = \"root\",\n",
    "                              password = \"Meremember1@#\",\n",
    "                              host = \"localhost\",\n",
    "                              database =\"mydb\")\n",
    "    cursor = conn.cursor()\n",
    "    cursor.execute(insert_status)\n",
    "    print(\"Data Insertion Completed\")\n",
    "    conn.commit()\n",
    "except connection.Error as e:\n",
    "    print(f'The error that has occured is : {e}')\n",
    "finally:\n",
    "    cursor.close()"
   ]
  },
  {
   "cell_type": "code",
   "execution_count": null,
   "id": "678918dc-e020-40b8-8c1b-339abe18a4b3",
   "metadata": {},
   "outputs": [],
   "source": [
    "# payment details\n",
    "\n",
    "try:\n",
    "    conn = connection.connect(user = \"root\",\n",
    "                              password = \"Meremember1@#\",\n",
    "                              host = \"localhost\",\n",
    "                              database =\"mydb\")\n",
    "    cursor = conn.cursor()\n",
    "    cursor.execute(insert_payment)\n",
    "    print(\"Data Insertion Completed\")\n",
    "    conn.commit()\n",
    "except connection.Error as e:\n",
    "    print(f'The error that has occured is : {e}')\n",
    "finally:\n",
    "    cursor.close()"
   ]
  },
  {
   "cell_type": "code",
   "execution_count": null,
   "id": "cba6b176-819b-4bf1-beb7-bc9a2d298084",
   "metadata": {},
   "outputs": [],
   "source": [
    "# inserting the staff \n",
    "try:\n",
    "    conn = connection.connect(user = \"root\",\n",
    "                              password = \"Meremember1@#\",\n",
    "                              host = \"localhost\",\n",
    "                              database =\"mydb\")\n",
    "    cursor = conn.cursor()\n",
    "    cursor.execute(insert_staff)\n",
    "    print(\"Data Insertion Completed\")\n",
    "    conn.commit()\n",
    "except connection.Error as e:\n",
    "    print(f'The error that has occured is : {e}')\n",
    "finally:\n",
    "    cursor.close()"
   ]
  },
  {
   "cell_type": "code",
   "execution_count": null,
   "id": "cef93ba2-9bce-4460-85c9-baabd3f0f9b4",
   "metadata": {},
   "outputs": [],
   "source": [
    "# inserting the staff details (last)\n",
    "try:\n",
    "    conn = connection.connect(user = \"root\",\n",
    "                              password = \"Meremember1@#\",\n",
    "                              host = \"localhost\",\n",
    "                              database =\"mydb\")\n",
    "    cursor = conn.cursor()\n",
    "    cursor.execute(insert_staff_details)\n",
    "    print(\"Data Insertion Completed\")\n",
    "    conn.commit()\n",
    "except connection.Error as e:\n",
    "    print(f'The error that has occured is : {e}')\n",
    "finally:\n",
    "    cursor.close()"
   ]
  },
  {
   "cell_type": "code",
   "execution_count": null,
   "id": "e7956ee3-0a94-4840-a78a-fa0c403f9072",
   "metadata": {},
   "outputs": [],
   "source": []
  }
 ],
 "metadata": {
  "kernelspec": {
   "display_name": "Python 3 (ipykernel)",
   "language": "python",
   "name": "python3"
  },
  "language_info": {
   "codemirror_mode": {
    "name": "ipython",
    "version": 3
   },
   "file_extension": ".py",
   "mimetype": "text/x-python",
   "name": "python",
   "nbconvert_exporter": "python",
   "pygments_lexer": "ipython3",
   "version": "3.13.1"
  }
 },
 "nbformat": 4,
 "nbformat_minor": 5
}
